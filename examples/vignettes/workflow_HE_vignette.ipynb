{
 "cells": [
  {
   "cell_type": "markdown",
   "id": "75884451-1ef9-49ab-8561-4eebe036cb3f",
   "metadata": {},
   "source": [
    "# Supplementary Vignette 2\n",
    "\n",
    "## Example workflow for H&E images\n",
    "\n",
    "Here we demonstrate a typical workflow for preprocessing of H&E images, consisting of the following steps:\n",
    "\n",
    "1. Loading the raw image\n",
    "2. Defining a simple preprocessing pipeline for tissue detection\n",
    "3. Creating a PyTorch DataLoader for interfacing with any downstream machine learning model\n",
    "\n",
    "The image used in this example is publicly avilalable for download: http://openslide.cs.cmu.edu/download/openslide-testdata/Aperio/\n",
    "\n",
    "**a. Load the image**"
   ]
  },
  {
   "cell_type": "code",
   "execution_count": 87,
   "id": "931dbb1a-26fb-4862-b02f-b86f2ef4ca79",
   "metadata": {},
   "outputs": [],
   "source": [
    "import os"
   ]
  },
  {
   "cell_type": "code",
   "execution_count": 2,
   "id": "3430c435-d2b7-4138-8c15-2c2409da8ea3",
   "metadata": {},
   "outputs": [],
   "source": [
    "import pathml"
   ]
  },
  {
   "cell_type": "code",
   "execution_count": 5,
   "id": "d1a7345a-0250-42b5-9561-06d58eb50731",
   "metadata": {},
   "outputs": [],
   "source": [
    "# os.environ['LD_LIBRARY_PATH']\n",
    "# os.environ[\"JAVA_HOME\"] = \"/usr/lib/jvm/jdk-17/\" "
   ]
  },
  {
   "cell_type": "code",
   "execution_count": 4,
   "id": "ddb0d0f0-e41d-495b-9ca2-d1928b28c1c2",
   "metadata": {},
   "outputs": [],
   "source": [
    "# os.environ[\"LD_LIBRARY_PATH\"] += \":/opt/conda/envs/standard/lib/python3.10/site-packages/nvidia/cublas/lib/libcublas.so.11\"\n"
   ]
  },
  {
   "cell_type": "code",
   "execution_count": 3,
   "id": "4fe03d4f-1e07-4afe-9ed2-dc027977b782",
   "metadata": {},
   "outputs": [],
   "source": [
    "# from pathml.core import SlideData, types\n",
    "\n",
    "# # load the image\n",
    "# wsi = SlideData(\"../../../bucket_data/CMU-1.svs\", name = \"example\", slide_type = types.HE)"
   ]
  },
  {
   "cell_type": "markdown",
   "id": "cd6e65ee-13b7-486b-85bf-b011a851f255",
   "metadata": {
    "jp-MarkdownHeadingCollapsed": true,
    "tags": []
   },
   "source": [
    "**b. Define a preprocessing pipeline**\n",
    "\n",
    "Pipelines are created by composing a sequence of modular transformations; in this example we apply a blur to reduce noise in the image followed by tissue detection"
   ]
  },
  {
   "cell_type": "code",
   "execution_count": 2,
   "id": "b94114e2-4384-4f6e-b0cd-14e4ebcb205c",
   "metadata": {},
   "outputs": [],
   "source": [
    "from pathml.preprocessing import Pipeline, BoxBlur, TissueDetectionHE\n",
    "\n",
    "pipeline = Pipeline([\n",
    "    BoxBlur(kernel_size=15),\n",
    "    TissueDetectionHE(mask_name = \"tissue\", min_region_size=500, \n",
    "                      threshold=30, outer_contours_only=True)\n",
    "])"
   ]
  },
  {
   "cell_type": "markdown",
   "id": "4c5177e6-d7e5-4218-a150-362c05e35988",
   "metadata": {},
   "source": [
    "**c. Run preprocessing**\n",
    "\n",
    "Now that we have constructed our pipeline, we are ready to run it on our WSI.\n",
    "PathML supports distributed computing, speeding up processing by running tiles in parallel among many workers rather than processing each tile sequentially on a single worker. This is supported by [Dask.distributed](https://distributed.dask.org/en/latest/index.html) on the backend, and is highly scalable for very large datasets. \n",
    "\n",
    "The first step is to create a `Client` object. In this case, we will use a simple cluster running locally; however, Dask supports other setups including Kubernetes, SLURM, etc. See the [PathML documentation](https://pathml.readthedocs.io/en/latest/running_pipelines.html#distributed-processing) for more information."
   ]
  },
  {
   "cell_type": "code",
   "execution_count": null,
   "id": "c7eb71bf-2189-41ee-9e51-194f9c655ab2",
   "metadata": {},
   "outputs": [],
   "source": [
    "from dask.distributed import Client, LocalCluster\n",
    "\n",
    "cluster = LocalCluster(n_workers=6)\n",
    "client = Client(cluster)\n"
   ]
  },
  {
   "cell_type": "code",
   "execution_count": 3,
   "id": "8dfee1ce-66da-46f1-826c-3894bf1fa6a6",
   "metadata": {},
   "outputs": [],
   "source": [
    "wsi.run(pipeline) #, distributed=True, client=client);"
   ]
  },
  {
   "cell_type": "code",
   "execution_count": 4,
   "id": "46aaf3f2-7ccf-4bcd-be64-888dafc6c096",
   "metadata": {},
   "outputs": [
    {
     "name": "stdout",
     "output_type": "stream",
     "text": [
      "Total number of tiles extracted: 22912\n"
     ]
    },
    {
     "name": "stderr",
     "output_type": "stream",
     "text": [
      "distributed.client - ERROR - Failed to reconnect to scheduler after 30.00 seconds, closing client\n",
      "_GatheringFuture exception was never retrieved\n",
      "future: <_GatheringFuture finished exception=CancelledError()>\n",
      "asyncio.exceptions.CancelledError\n"
     ]
    }
   ],
   "source": [
    "print(f\"Total number of tiles extracted: {len(wsi.tiles)}\")"
   ]
  },
  {
   "cell_type": "markdown",
   "id": "4959af73-db3e-4c38-a7f3-1e6f854e50ac",
   "metadata": {},
   "source": [
    "**e. Save results to disk**\n",
    "\n",
    "The resulting preprocessed data is written to disk, leveraging the HDF5 data specification optimized for efficiently manipulating larger-than-memory data."
   ]
  },
  {
   "cell_type": "code",
   "execution_count": 5,
   "id": "0abf4264-13f5-4264-b8f3-93bf97589b77",
   "metadata": {},
   "outputs": [],
   "source": [
    "wsi.write(\"../../../bucket_data/CMU-1-preprocessed.h5path\")"
   ]
  },
  {
   "cell_type": "code",
   "execution_count": null,
   "id": "9737637f-464b-407f-a2b6-566877aae788",
   "metadata": {},
   "outputs": [],
   "source": []
  },
  {
   "cell_type": "markdown",
   "id": "ad585896-b456-40fb-821e-dc45894519af",
   "metadata": {},
   "source": [
    "**f. Create PyTorch DataLoader**\n",
    "\n",
    "The `DataLoader` provides an interface with any machine learning model built on the PyTorch ecosystem"
   ]
  },
  {
   "cell_type": "code",
   "execution_count": 22,
   "id": "324b6286-c3d7-49ad-8a86-4f70998c4358",
   "metadata": {},
   "outputs": [],
   "source": [
    "from pathml.ml import TileDataset\n",
    "from torch.utils.data import DataLoader\n",
    "\n",
    "dataset = TileDataset(\"../../../bucket_data/CMU-1-preprocessed.h5path\")\n",
    "dataloader = DataLoader(dataset, batch_size = 64, num_workers = 4)"
   ]
  },
  {
   "cell_type": "code",
   "execution_count": 4,
   "id": "bcaff9e5-c002-48ad-b6b9-4d22e2ff684a",
   "metadata": {},
   "outputs": [
    {
     "data": {
      "text/plain": [
       "<pathml.ml.dataset.TileDataset at 0x7faed7d653a0>"
      ]
     },
     "execution_count": 4,
     "metadata": {},
     "output_type": "execute_result"
    }
   ],
   "source": [
    "dataset"
   ]
  },
  {
   "cell_type": "code",
   "execution_count": 5,
   "id": "0ea49e5c-a0da-4a2f-80c6-2cc977180adc",
   "metadata": {},
   "outputs": [],
   "source": [
    "import jax\n",
    "import jax.numpy as jnp"
   ]
  },
  {
   "cell_type": "code",
   "execution_count": 10,
   "id": "b19b9a3c-d986-4279-9cc0-12ba1fd58024",
   "metadata": {},
   "outputs": [],
   "source": [
    "from jax import jit"
   ]
  },
  {
   "cell_type": "code",
   "execution_count": 29,
   "id": "54ae1474-0197-4509-9e6f-7b619aa802af",
   "metadata": {},
   "outputs": [],
   "source": [
    "class JaxTileDataset():\n",
    "    \"\"\"\n",
    "    JAX Dataset class for h5path files.\n",
    "    Each item is a tuple of (``tile_image``, ``tile_masks``, ``tile_labels``, ``slide_labels``) where:\n",
    "        - ``tile_image`` is a jnp.ndarray of shape (C, H, W) or (T, Z, C, H, W)\n",
    "        - ``tile_masks`` is a jnp.ndarray of shape (n_masks, tile_height, tile_width)\n",
    "        - ``tile_labels`` is a dict\n",
    "        - ``slide_labels`` is a dict\n",
    "    Args:\n",
    "        file_path (str): Path to .h5path file on disk\n",
    "    \"\"\"\n",
    "    def __init__(self, file_path):\n",
    "        self.dataset = TileDataset(file_path)\n",
    "\n",
    "    def __len__(self):\n",
    "        return len(self.dataset)\n",
    "\n",
    "    def __getitem__(self, index):\n",
    "        tile_image, tile_masks, tile_labels, slide_labels = self.dataset[index]\n",
    "\n",
    "        # convert to JAX arrays\n",
    "        tile_image = jnp.array(tile_image)\n",
    "        if tile_masks is not None:\n",
    "            tile_masks = jnp.array(tile_masks)\n",
    "        tile_labels = jax.tree_map(jnp.array, tile_labels)\n",
    "        slide_labels = jax.tree_map(jnp.array, slide_labels)\n",
    "\n",
    "        return tile_image, tile_masks, tile_labels, slide_labels\n",
    "\n",
    "\n",
    "def jax_collate_fn(batch):\n",
    "    \"\"\"\n",
    "    A custom collate_fn for JAX DataLoader that handles stacking of labels into a batch.\n",
    "    \"\"\"\n",
    "    tile_images, tile_masks, tile_labels, slide_labels = zip(*batch)\n",
    "    tile_images = jax.device_put(jnp.stack(tile_images))\n",
    "    if tile_masks[0] is not None:\n",
    "        tile_masks = jax.device_put(jnp.stack(tile_masks))\n",
    "    else:\n",
    "        tile_masks = None\n",
    "    tile_labels = jax.tree_multimap(lambda *x: jnp.stack(x), *tile_labels)\n",
    "    slide_labels = jax.tree_multimap(lambda *x: jnp.stack(x), *slide_labels)\n",
    "\n",
    "    return tile_images, tile_masks, tile_labels, slide_labels\n"
   ]
  },
  {
   "cell_type": "code",
   "execution_count": 80,
   "id": "8879538a-c78b-4682-822d-2a4ce3b9ed29",
   "metadata": {},
   "outputs": [],
   "source": [
    "import numpy as np\n",
    "from torch.utils import data\n",
    "# from torchvision.datasets import MNIST\n",
    "\n",
    "def numpy_collate(batch):\n",
    "    \n",
    "      if isinstance(batch[0], np.ndarray):\n",
    "        return np.stack(batch)\n",
    "      elif isinstance(batch[0], (tuple,list)):\n",
    "        transposed = zip(*batch)\n",
    "        return [numpy_collate(samples) for samples in transposed]\n",
    "      else:\n",
    "        return np.array(batch)\n",
    "    \n",
    "def numpy_collate(batch):\n",
    "    if isinstance(batch[0], np.ndarray):\n",
    "        return np.stack(batch)\n",
    "    elif isinstance(batch[0], tuple) or isinstance(batch[0], list):\n",
    "        images = np.stack([FlattenAndCast()(im) for im, _, _, _ in batch])\n",
    "        masks = np.stack([mask for _, mask, _, _ in batch]) if batch[0][1] is not None else None\n",
    "        labels = [label for _, _, label, _ in batch]\n",
    "        slide_labels = [slide_label for _, _, _, slide_label in batch]\n",
    "        return images, masks, labels, slide_labels\n",
    "    else:\n",
    "        return np.array(batch)\n",
    "\n",
    "\n",
    "class NumpyLoader(data.DataLoader):\n",
    "      def __init__(self, dataset, batch_size=1,\n",
    "                    shuffle=False, sampler=None,\n",
    "                    batch_sampler=None, num_workers=0,\n",
    "                    pin_memory=False, drop_last=False,\n",
    "                    timeout=0, worker_init_fn=None):\n",
    "        super(self.__class__, self).__init__(dataset,\n",
    "            batch_size=batch_size,\n",
    "            shuffle=shuffle,\n",
    "            sampler=sampler,\n",
    "            batch_sampler=batch_sampler,\n",
    "            num_workers=num_workers,\n",
    "            collate_fn=numpy_collate,\n",
    "        #     collate_fn = lambda x: (\n",
    "        # np.stack([FlattenAndCast()(im) for im, _, _, _ in x]),\n",
    "        # np.stack([mask for _, mask, _, _ in x]) if x[0][1] is not None else None,\n",
    "        # [label for _, _, label, _ in x],\n",
    "        # [slide_label for _, _, _, slide_label in x]),\n",
    "                \n",
    "            pin_memory=pin_memory,\n",
    "            drop_last=drop_last,\n",
    "            timeout=timeout,\n",
    "            worker_init_fn=worker_init_fn)\n",
    "\n",
    "class FlattenAndCast(object):\n",
    "      def __call__(self, pic):\n",
    "        return np.ravel(np.array(pic, dtype=jnp.float32))"
   ]
  },
  {
   "cell_type": "code",
   "execution_count": 81,
   "id": "fbcc5f09-3ecc-4af3-8e77-d037236d3e0e",
   "metadata": {},
   "outputs": [],
   "source": [
    "training_generator = NumpyLoader(dataset, batch_size=batch_size, num_workers=0)"
   ]
  },
  {
   "cell_type": "code",
   "execution_count": null,
   "id": "e2321d46-4f42-4782-930a-296d31b34a1c",
   "metadata": {},
   "outputs": [],
   "source": []
  },
  {
   "cell_type": "code",
   "execution_count": 41,
   "id": "2b5a3f80-eb30-446e-aec7-fe386bbee43e",
   "metadata": {},
   "outputs": [],
   "source": [
    "# for a,b,c,d in training_generator:\n",
    "#     # y = one_hot(y, n_targets)\n",
    "#     pass"
   ]
  },
  {
   "cell_type": "code",
   "execution_count": 72,
   "id": "b1c67978-09b8-445b-b3d4-c323a14f601c",
   "metadata": {},
   "outputs": [],
   "source": [
    "import jax.numpy as jnp\n",
    "import numpy as np\n",
    "from torch.utils import data\n",
    "\n",
    "# define FlattenAndCast transform\n",
    "class FlattenAndCast(object):\n",
    "    def __call__(self, pic):\n",
    "        return np.ravel(np.array(pic, dtype=jnp.float32))\n",
    "\n",
    "\n",
    "\n",
    "# create NumpyLoader\n",
    "numpy_loader = NumpyLoader(\n",
    "    dataset=dataset,\n",
    "    batch_size=32,\n",
    "    shuffle=True,\n",
    "    num_workers=4\n",
    ")\n"
   ]
  },
  {
   "cell_type": "code",
   "execution_count": 82,
   "id": "5d48659d-d07c-4287-97d6-c3a74305b389",
   "metadata": {},
   "outputs": [],
   "source": [
    "a,b,c,d=next(iter(numpy_loader))"
   ]
  },
  {
   "cell_type": "code",
   "execution_count": 83,
   "id": "9d6cd616-81ea-4c26-9e03-ce78984557fd",
   "metadata": {},
   "outputs": [
    {
     "data": {
      "text/plain": [
       "(32, 196608)"
      ]
     },
     "execution_count": 83,
     "metadata": {},
     "output_type": "execute_result"
    }
   ],
   "source": [
    "a.shape"
   ]
  },
  {
   "cell_type": "code",
   "execution_count": 84,
   "id": "445a8e5f-2d22-4721-809f-f901cd08aa61",
   "metadata": {},
   "outputs": [
    {
     "data": {
      "text/plain": [
       "(32, 1, 256, 256)"
      ]
     },
     "execution_count": 84,
     "metadata": {},
     "output_type": "execute_result"
    }
   ],
   "source": [
    "b.shape"
   ]
  },
  {
   "cell_type": "code",
   "execution_count": null,
   "id": "040187e9-e9ac-4ef9-b6f8-e6d7693d06d5",
   "metadata": {},
   "outputs": [],
   "source": []
  },
  {
   "cell_type": "code",
   "execution_count": 30,
   "id": "dcaffece-e9d2-49a7-acac-90ba804b29f2",
   "metadata": {},
   "outputs": [
    {
     "ename": "NameError",
     "evalue": "name 'jax_utils' is not defined",
     "output_type": "error",
     "traceback": [
      "\u001b[0;31m---------------------------------------------------------------------------\u001b[0m",
      "\u001b[0;31mNameError\u001b[0m                                 Traceback (most recent call last)",
      "Cell \u001b[0;32mIn[30], line 2\u001b[0m\n\u001b[1;32m      1\u001b[0m jax_dataset \u001b[38;5;241m=\u001b[39m JaxTileDataset(file_path\u001b[38;5;241m=\u001b[39m\u001b[38;5;124m'\u001b[39m\u001b[38;5;124m../../../bucket_data/CMU-1-preprocessed.h5path\u001b[39m\u001b[38;5;124m'\u001b[39m)\n\u001b[0;32m----> 2\u001b[0m jax_dataloader \u001b[38;5;241m=\u001b[39m \u001b[43mjax_utils\u001b[49m\u001b[38;5;241m.\u001b[39mJaxDataLoader(\n\u001b[1;32m      3\u001b[0m     dataset\u001b[38;5;241m=\u001b[39mjax_dataset,\n\u001b[1;32m      4\u001b[0m     batch_size\u001b[38;5;241m=\u001b[39mbatch_size,\n\u001b[1;32m      5\u001b[0m     shuffle\u001b[38;5;241m=\u001b[39m\u001b[38;5;28;01mTrue\u001b[39;00m,\n\u001b[1;32m      6\u001b[0m     collate_fn\u001b[38;5;241m=\u001b[39mjax_collate_fn,\n\u001b[1;32m      7\u001b[0m     num_workers\u001b[38;5;241m=\u001b[39mnum_workers,\n\u001b[1;32m      8\u001b[0m )\n",
      "\u001b[0;31mNameError\u001b[0m: name 'jax_utils' is not defined"
     ]
    }
   ],
   "source": [
    "jax_dataset = JaxTileDataset(file_path='../../../bucket_data/CMU-1-preprocessed.h5path')\n",
    "jax_dataloader = jax_utils.JaxDataLoader(\n",
    "    dataset=jax_dataset,\n",
    "    batch_size=batch_size,\n",
    "    shuffle=True,\n",
    "    collate_fn=jax_collate_fn,\n",
    "    num_workers=num_workers,\n",
    ")\n"
   ]
  },
  {
   "cell_type": "code",
   "execution_count": null,
   "id": "47320cd1-1ba9-402d-876e-6bae57226754",
   "metadata": {},
   "outputs": [],
   "source": []
  },
  {
   "cell_type": "code",
   "execution_count": null,
   "id": "dc485dda-8906-4385-a6f6-9d4020323b1c",
   "metadata": {},
   "outputs": [],
   "source": []
  },
  {
   "cell_type": "code",
   "execution_count": null,
   "id": "4e4da735-f380-4e01-b611-c59ffe8fec6d",
   "metadata": {},
   "outputs": [],
   "source": []
  },
  {
   "cell_type": "code",
   "execution_count": 14,
   "id": "4642acfc-7e36-4f58-9711-5d13bb365317",
   "metadata": {},
   "outputs": [],
   "source": [
    "import jax\n",
    "import jax.numpy as jnp\n",
    "import numpy as np\n",
    "\n",
    "class JaxDataLoader:\n",
    "    def __init__(self, dataset, batch_size, shuffle=False, num_workers=0):\n",
    "        self.dataset = dataset\n",
    "        self.batch_size = batch_size\n",
    "        self.shuffle = shuffle\n",
    "        self.num_workers = num_workers\n",
    "        self.index_generator = self._generate_indices()\n",
    "\n",
    "    def __iter__(self):\n",
    "        for batch_indices in self.index_generator:\n",
    "            batch = self._get_batch(batch_indices)\n",
    "            yield batch\n",
    "\n",
    "    def __len__(self):\n",
    "        return int(np.ceil(len(self.dataset) / self.batch_size))\n",
    "\n",
    "    def _generate_indices(self):\n",
    "        indices = np.arange(len(self.dataset))\n",
    "        if self.shuffle:\n",
    "            np.random.shuffle(indices)\n",
    "        for i in range(0, len(indices), self.batch_size):\n",
    "            yield indices[i:i + self.batch_size]\n",
    "\n",
    "    @jax.jit\n",
    "    def _get_batch(self, batch_indices):\n",
    "        batch = [self.dataset[i] for i in batch_indices]\n",
    "        return jax_collate_fn(batch)\n",
    "\n",
    "@jax.jit\n",
    "def jax_collate_fn(batch):\n",
    "    \"\"\"\n",
    "    A custom collate_fn for JAX DataLoader that handles stacking of labels into a batch.\n",
    "    \"\"\"\n",
    "    tile_images, tile_masks, tile_labels, slide_labels = zip(*batch)\n",
    "    tile_images = jnp.stack(tile_images)\n",
    "    if tile_masks[0] is not None:\n",
    "        tile_masks = jnp.stack(tile_masks)\n",
    "    else:\n",
    "        tile_masks = None\n",
    "    tile_labels = jax.tree_multimap(lambda *x: jnp.stack(x), *tile_labels)\n",
    "    slide_labels = jax.tree_multimap(lambda *x: jnp.stack(x), *slide_labels)\n",
    "\n",
    "    return tile_images, tile_masks, tile_labels, slide_labels\n",
    "\n",
    "batch_size = 32\n",
    "num_workers = 4\n",
    "jax_dataset = JaxTileDataset('../../../bucket_data/CMU-1-preprocessed.h5path')\n",
    "jax_dataloader = JaxDataLoader(\n",
    "    dataset=jax_dataset,\n",
    "    batch_size=batch_size,\n",
    "    shuffle=True,\n",
    "    num_workers=num_workers,\n",
    ")\n"
   ]
  },
  {
   "cell_type": "code",
   "execution_count": null,
   "id": "0f0733f3-075a-4f1a-97f4-69fc3ae6d72c",
   "metadata": {},
   "outputs": [],
   "source": []
  },
  {
   "cell_type": "code",
   "execution_count": 16,
   "id": "a525a2f6-13ce-4fd9-8d75-235703ac86ac",
   "metadata": {},
   "outputs": [
    {
     "data": {
      "text/plain": [
       "__main__.JaxDataLoader"
      ]
     },
     "execution_count": 16,
     "metadata": {},
     "output_type": "execute_result"
    }
   ],
   "source": [
    "type(jax_dataloader)"
   ]
  },
  {
   "cell_type": "code",
   "execution_count": 19,
   "id": "c336dda8-91f9-4fda-9877-590ce4384fc7",
   "metadata": {},
   "outputs": [
    {
     "ename": "TypeError",
     "evalue": "Cannot interpret value of type <class '__main__.JaxDataLoader'> as an abstract array; it does not have a dtype attribute",
     "output_type": "error",
     "traceback": [
      "\u001b[0;31m---------------------------------------------------------------------------\u001b[0m",
      "\u001b[0;31mKeyError\u001b[0m                                  Traceback (most recent call last)",
      "File \u001b[0;32m/opt/conda/envs/pathml_standard/lib/python3.8/site-packages/jax/_src/api_util.py:561\u001b[0m, in \u001b[0;36mshaped_abstractify\u001b[0;34m(x)\u001b[0m\n\u001b[1;32m    560\u001b[0m \u001b[38;5;28;01mtry\u001b[39;00m:\n\u001b[0;32m--> 561\u001b[0m   \u001b[38;5;28;01mreturn\u001b[39;00m \u001b[43m_shaped_abstractify_handlers\u001b[49m\u001b[43m[\u001b[49m\u001b[38;5;28;43mtype\u001b[39;49m\u001b[43m(\u001b[49m\u001b[43mx\u001b[49m\u001b[43m)\u001b[49m\u001b[43m]\u001b[49m(x)\n\u001b[1;32m    562\u001b[0m \u001b[38;5;28;01mexcept\u001b[39;00m \u001b[38;5;167;01mKeyError\u001b[39;00m:\n",
      "\u001b[0;31mKeyError\u001b[0m: <class '__main__.JaxDataLoader'>",
      "\nDuring handling of the above exception, another exception occurred:\n",
      "\u001b[0;31mTypeError\u001b[0m                                 Traceback (most recent call last)",
      "Cell \u001b[0;32mIn[19], line 1\u001b[0m\n\u001b[0;32m----> 1\u001b[0m a\u001b[38;5;241m=\u001b[39m \u001b[38;5;28;43mnext\u001b[39;49m\u001b[43m(\u001b[49m\u001b[38;5;28;43miter\u001b[39;49m\u001b[43m(\u001b[49m\u001b[43mjax_dataloader\u001b[49m\u001b[43m)\u001b[49m\u001b[43m)\u001b[49m\n",
      "Cell \u001b[0;32mIn[14], line 15\u001b[0m, in \u001b[0;36mJaxDataLoader.__iter__\u001b[0;34m(self)\u001b[0m\n\u001b[1;32m     13\u001b[0m \u001b[38;5;28;01mdef\u001b[39;00m \u001b[38;5;21m__iter__\u001b[39m(\u001b[38;5;28mself\u001b[39m):\n\u001b[1;32m     14\u001b[0m     \u001b[38;5;28;01mfor\u001b[39;00m batch_indices \u001b[38;5;129;01min\u001b[39;00m \u001b[38;5;28mself\u001b[39m\u001b[38;5;241m.\u001b[39mindex_generator:\n\u001b[0;32m---> 15\u001b[0m         batch \u001b[38;5;241m=\u001b[39m \u001b[38;5;28;43mself\u001b[39;49m\u001b[38;5;241;43m.\u001b[39;49m\u001b[43m_get_batch\u001b[49m\u001b[43m(\u001b[49m\u001b[43mbatch_indices\u001b[49m\u001b[43m)\u001b[49m\n\u001b[1;32m     16\u001b[0m         \u001b[38;5;28;01myield\u001b[39;00m batch\n",
      "    \u001b[0;31m[... skipping hidden 7 frame]\u001b[0m\n",
      "File \u001b[0;32m/opt/conda/envs/pathml_standard/lib/python3.8/site-packages/jax/_src/api_util.py:552\u001b[0m, in \u001b[0;36m_shaped_abstractify_slow\u001b[0;34m(x)\u001b[0m\n\u001b[1;32m    550\u001b[0m   dtype \u001b[38;5;241m=\u001b[39m dtypes\u001b[38;5;241m.\u001b[39mcanonicalize_dtype(x\u001b[38;5;241m.\u001b[39mdtype, allow_opaque_dtype\u001b[38;5;241m=\u001b[39m\u001b[38;5;28;01mTrue\u001b[39;00m)\n\u001b[1;32m    551\u001b[0m \u001b[38;5;28;01melse\u001b[39;00m:\n\u001b[0;32m--> 552\u001b[0m   \u001b[38;5;28;01mraise\u001b[39;00m \u001b[38;5;167;01mTypeError\u001b[39;00m(\n\u001b[1;32m    553\u001b[0m       \u001b[38;5;124mf\u001b[39m\u001b[38;5;124m\"\u001b[39m\u001b[38;5;124mCannot interpret value of type \u001b[39m\u001b[38;5;132;01m{\u001b[39;00m\u001b[38;5;28mtype\u001b[39m(x)\u001b[38;5;132;01m}\u001b[39;00m\u001b[38;5;124m as an abstract array; it \u001b[39m\u001b[38;5;124m\"\u001b[39m\n\u001b[1;32m    554\u001b[0m       \u001b[38;5;124m\"\u001b[39m\u001b[38;5;124mdoes not have a dtype attribute\u001b[39m\u001b[38;5;124m\"\u001b[39m)\n\u001b[1;32m    555\u001b[0m \u001b[38;5;28;01mreturn\u001b[39;00m core\u001b[38;5;241m.\u001b[39mShapedArray(np\u001b[38;5;241m.\u001b[39mshape(x), dtype, weak_type\u001b[38;5;241m=\u001b[39mweak_type,\n\u001b[1;32m    556\u001b[0m                         named_shape\u001b[38;5;241m=\u001b[39mnamed_shape)\n",
      "\u001b[0;31mTypeError\u001b[0m: Cannot interpret value of type <class '__main__.JaxDataLoader'> as an abstract array; it does not have a dtype attribute"
     ]
    }
   ],
   "source": [
    "a= next(iter(jax_dataloader))"
   ]
  },
  {
   "cell_type": "code",
   "execution_count": 21,
   "id": "9620a8e3-d8d9-42d9-9120-e67f8e88fa8c",
   "metadata": {},
   "outputs": [],
   "source": [
    "import jax_dataloader as jdl"
   ]
  },
  {
   "cell_type": "code",
   "execution_count": 23,
   "id": "6e9f3295-4796-4089-a47b-c3f04acba755",
   "metadata": {},
   "outputs": [
    {
     "ename": "ValueError",
     "evalue": "dataset (type=<class 'pathml.ml.dataset.TileDataset'>) is a pytorch dataset, which is only supported by 'pytorch' backend.However, we got `backend=jax`, which is not 'pytorch'.",
     "output_type": "error",
     "traceback": [
      "\u001b[0;31m---------------------------------------------------------------------------\u001b[0m",
      "\u001b[0;31mValueError\u001b[0m                                Traceback (most recent call last)",
      "Cell \u001b[0;32mIn[23], line 1\u001b[0m\n\u001b[0;32m----> 1\u001b[0m dataloader \u001b[38;5;241m=\u001b[39m \u001b[43mjdl\u001b[49m\u001b[38;5;241;43m.\u001b[39;49m\u001b[43mDataLoader\u001b[49m\u001b[43m(\u001b[49m\u001b[43mdataset\u001b[49m\u001b[43m,\u001b[49m\u001b[43m \u001b[49m\u001b[38;5;124;43m'\u001b[39;49m\u001b[38;5;124;43mjax\u001b[39;49m\u001b[38;5;124;43m'\u001b[39;49m\u001b[43m,\u001b[49m\u001b[43m \u001b[49m\u001b[43mbatch_size\u001b[49m\u001b[38;5;241;43m=\u001b[39;49m\u001b[38;5;241;43m5\u001b[39;49m\u001b[43m,\u001b[49m\u001b[43m \u001b[49m\u001b[43mshuffle\u001b[49m\u001b[38;5;241;43m=\u001b[39;49m\u001b[38;5;28;43;01mTrue\u001b[39;49;00m\u001b[43m)\u001b[49m\n",
      "File \u001b[0;32m/opt/conda/envs/pathml_standard/lib/python3.8/site-packages/jax_dataloader/core.py:391\u001b[0m, in \u001b[0;36mDataLoader.__init__\u001b[0;34m(self, dataset, backend, batch_size, shuffle, drop_last, **kwargs)\u001b[0m\n\u001b[1;32m    382\u001b[0m \u001b[38;5;28;01mdef\u001b[39;00m \u001b[38;5;21m__init__\u001b[39m(\n\u001b[1;32m    383\u001b[0m     \u001b[38;5;28mself\u001b[39m,\n\u001b[1;32m    384\u001b[0m     dataset, \u001b[38;5;66;03m# Dataset or Pytorch Dataset or HuggingFace Dataset\u001b[39;00m\n\u001b[0;32m   (...)\u001b[0m\n\u001b[1;32m    389\u001b[0m     \u001b[38;5;241m*\u001b[39m\u001b[38;5;241m*\u001b[39mkwargs\n\u001b[1;32m    390\u001b[0m ):\n\u001b[0;32m--> 391\u001b[0m     dataset, dl_cls \u001b[38;5;241m=\u001b[39m \u001b[43m_dispatch_dataset_and_backend\u001b[49m\u001b[43m(\u001b[49m\u001b[43mdataset\u001b[49m\u001b[43m,\u001b[49m\u001b[43m \u001b[49m\u001b[43mbackend\u001b[49m\u001b[43m)\u001b[49m\n\u001b[1;32m    392\u001b[0m     \u001b[38;5;28mself\u001b[39m\u001b[38;5;241m.\u001b[39mdataloader \u001b[38;5;241m=\u001b[39m dl_cls(\n\u001b[1;32m    393\u001b[0m         dataset\u001b[38;5;241m=\u001b[39mdataset, \n\u001b[1;32m    394\u001b[0m         batch_size\u001b[38;5;241m=\u001b[39mbatch_size, \n\u001b[0;32m   (...)\u001b[0m\n\u001b[1;32m    397\u001b[0m         \u001b[38;5;241m*\u001b[39m\u001b[38;5;241m*\u001b[39mkwargs\n\u001b[1;32m    398\u001b[0m     )\n",
      "File \u001b[0;32m/opt/conda/envs/pathml_standard/lib/python3.8/site-packages/jax_dataloader/core.py:368\u001b[0m, in \u001b[0;36m_dispatch_dataset_and_backend\u001b[0;34m(dataset, backend)\u001b[0m\n\u001b[1;32m    365\u001b[0m \u001b[38;5;250m\u001b[39m\u001b[38;5;124;03m\"\"\"Return Dataset and Dataloader class based on given `dataset` and `backend`\"\"\"\u001b[39;00m\n\u001b[1;32m    367\u001b[0m \u001b[38;5;28;01mif\u001b[39;00m \u001b[38;5;28misinstance\u001b[39m(dataset, torch_data\u001b[38;5;241m.\u001b[39mDataset) \u001b[38;5;129;01mand\u001b[39;00m backend \u001b[38;5;241m!=\u001b[39m \u001b[38;5;124m\"\u001b[39m\u001b[38;5;124mpytorch\u001b[39m\u001b[38;5;124m\"\u001b[39m:\n\u001b[0;32m--> 368\u001b[0m     \u001b[38;5;28;01mraise\u001b[39;00m \u001b[38;5;167;01mValueError\u001b[39;00m(\u001b[38;5;124mf\u001b[39m\u001b[38;5;124m\"\u001b[39m\u001b[38;5;124mdataset (type=\u001b[39m\u001b[38;5;132;01m{\u001b[39;00m\u001b[38;5;28mtype\u001b[39m(dataset)\u001b[38;5;132;01m}\u001b[39;00m\u001b[38;5;124m) is a pytorch dataset, \u001b[39m\u001b[38;5;124m\"\u001b[39m\n\u001b[1;32m    369\u001b[0m                      \u001b[38;5;124m\"\u001b[39m\u001b[38;5;124mwhich is only supported by \u001b[39m\u001b[38;5;124m'\u001b[39m\u001b[38;5;124mpytorch\u001b[39m\u001b[38;5;124m'\u001b[39m\u001b[38;5;124m backend.\u001b[39m\u001b[38;5;124m\"\u001b[39m\n\u001b[1;32m    370\u001b[0m                      \u001b[38;5;124mf\u001b[39m\u001b[38;5;124m\"\u001b[39m\u001b[38;5;124mHowever, we got `backend=\u001b[39m\u001b[38;5;132;01m{\u001b[39;00mbackend\u001b[38;5;132;01m}\u001b[39;00m\u001b[38;5;124m`, which is not \u001b[39m\u001b[38;5;124m'\u001b[39m\u001b[38;5;124mpytorch\u001b[39m\u001b[38;5;124m'\u001b[39m\u001b[38;5;124m.\u001b[39m\u001b[38;5;124m\"\u001b[39m)\n\u001b[1;32m    372\u001b[0m dataset \u001b[38;5;241m=\u001b[39m _dispatch_dataset(dataset)\n\u001b[1;32m    374\u001b[0m dl_cls \u001b[38;5;241m=\u001b[39m _dispatch_dataloader(backend)\n",
      "\u001b[0;31mValueError\u001b[0m: dataset (type=<class 'pathml.ml.dataset.TileDataset'>) is a pytorch dataset, which is only supported by 'pytorch' backend.However, we got `backend=jax`, which is not 'pytorch'."
     ]
    }
   ],
   "source": [
    "dataloader = jdl.DataLoader(dataset, 'jax', batch_size=5, shuffle=True)"
   ]
  },
  {
   "cell_type": "code",
   "execution_count": null,
   "id": "5f4c8cf6-c58e-4421-b6ec-0330639e9c77",
   "metadata": {},
   "outputs": [],
   "source": []
  },
  {
   "cell_type": "code",
   "execution_count": 24,
   "id": "bf2f7d76-6422-400d-878a-c1b5934caefd",
   "metadata": {},
   "outputs": [
    {
     "name": "stderr",
     "output_type": "stream",
     "text": [
      "No GPU/TPU found, falling back to CPU. (Set TF_CPP_MIN_LOG_LEVEL=0 and rerun for more info.)\n"
     ]
    }
   ],
   "source": [
    "# Create features `X` and labels `y`\n",
    "X = jnp.arange(100).reshape(10, 10)\n",
    "y = jnp.arange(10)\n",
    "# Create an `ArrayDataset`\n",
    "arr_ds = jdl.ArrayDataset(X, y)"
   ]
  },
  {
   "cell_type": "code",
   "execution_count": 25,
   "id": "00530abd-368f-490a-9200-c8d26aaaa781",
   "metadata": {},
   "outputs": [
    {
     "data": {
      "text/plain": [
       "(10, 10)"
      ]
     },
     "execution_count": 25,
     "metadata": {},
     "output_type": "execute_result"
    }
   ],
   "source": [
    "X.shape"
   ]
  },
  {
   "cell_type": "code",
   "execution_count": 26,
   "id": "21fedd4b-d310-496d-afb9-2b012668ad6b",
   "metadata": {},
   "outputs": [
    {
     "data": {
      "text/plain": [
       "(10,)"
      ]
     },
     "execution_count": 26,
     "metadata": {},
     "output_type": "execute_result"
    }
   ],
   "source": [
    "y.shape"
   ]
  },
  {
   "cell_type": "code",
   "execution_count": 27,
   "id": "288cd36a-5148-44a5-a4df-49e17edd445e",
   "metadata": {},
   "outputs": [
    {
     "data": {
      "text/plain": [
       "Array([0, 1, 2, 3, 4, 5, 6, 7, 8, 9], dtype=int32)"
      ]
     },
     "execution_count": 27,
     "metadata": {},
     "output_type": "execute_result"
    }
   ],
   "source": [
    "y"
   ]
  },
  {
   "cell_type": "code",
   "execution_count": 28,
   "id": "b56ed9fe-8c83-4645-8bd1-6d4eb626f1f7",
   "metadata": {},
   "outputs": [
    {
     "data": {
      "text/plain": [
       "<pathml.ml.dataset.TileDataset at 0x7faeccc02f40>"
      ]
     },
     "execution_count": 28,
     "metadata": {},
     "output_type": "execute_result"
    }
   ],
   "source": [
    "dataset"
   ]
  },
  {
   "cell_type": "code",
   "execution_count": null,
   "id": "161bd224-f436-4964-8105-bce3499207a9",
   "metadata": {},
   "outputs": [],
   "source": []
  },
  {
   "cell_type": "code",
   "execution_count": null,
   "id": "79e0cef6-d37d-4a4b-836d-7f27988c05d3",
   "metadata": {},
   "outputs": [],
   "source": []
  },
  {
   "cell_type": "code",
   "execution_count": null,
   "id": "7b6046f0-bb1b-4bd0-b52b-223dd14d8209",
   "metadata": {},
   "outputs": [],
   "source": []
  },
  {
   "cell_type": "code",
   "execution_count": null,
   "id": "a20d3fb5-06fc-44c7-8d0e-f32f3e9d227f",
   "metadata": {},
   "outputs": [],
   "source": []
  },
  {
   "cell_type": "code",
   "execution_count": 17,
   "id": "847a3fe7-1e7a-4720-a881-65c7e039732b",
   "metadata": {},
   "outputs": [
    {
     "ename": "TypeError",
     "evalue": "Cannot interpret value of type <class '__main__.JaxDataLoader'> as an abstract array; it does not have a dtype attribute",
     "output_type": "error",
     "traceback": [
      "\u001b[0;31m---------------------------------------------------------------------------\u001b[0m",
      "\u001b[0;31mKeyError\u001b[0m                                  Traceback (most recent call last)",
      "File \u001b[0;32m/opt/conda/envs/pathml_standard/lib/python3.8/site-packages/jax/_src/api_util.py:561\u001b[0m, in \u001b[0;36mshaped_abstractify\u001b[0;34m(x)\u001b[0m\n\u001b[1;32m    560\u001b[0m \u001b[38;5;28;01mtry\u001b[39;00m:\n\u001b[0;32m--> 561\u001b[0m   \u001b[38;5;28;01mreturn\u001b[39;00m \u001b[43m_shaped_abstractify_handlers\u001b[49m\u001b[43m[\u001b[49m\u001b[38;5;28;43mtype\u001b[39;49m\u001b[43m(\u001b[49m\u001b[43mx\u001b[49m\u001b[43m)\u001b[49m\u001b[43m]\u001b[49m(x)\n\u001b[1;32m    562\u001b[0m \u001b[38;5;28;01mexcept\u001b[39;00m \u001b[38;5;167;01mKeyError\u001b[39;00m:\n",
      "\u001b[0;31mKeyError\u001b[0m: <class '__main__.JaxDataLoader'>",
      "\nDuring handling of the above exception, another exception occurred:\n",
      "\u001b[0;31mTypeError\u001b[0m                                 Traceback (most recent call last)",
      "Cell \u001b[0;32mIn[17], line 1\u001b[0m\n\u001b[0;32m----> 1\u001b[0m \u001b[38;5;28;01mfor\u001b[39;00m batch \u001b[38;5;129;01min\u001b[39;00m jax_dataloader:\n\u001b[1;32m      2\u001b[0m     \u001b[38;5;66;03m# check if batch has the expected shape\u001b[39;00m\n\u001b[1;32m      3\u001b[0m     \u001b[38;5;28mprint\u001b[39m(batch[\u001b[38;5;241m0\u001b[39m]\u001b[38;5;241m.\u001b[39mshape)  \u001b[38;5;66;03m# should print (batch_size, C, H, W) or (batch_size, T, Z, C, H, W)\u001b[39;00m\n\u001b[1;32m      4\u001b[0m     \u001b[38;5;28mprint\u001b[39m(batch[\u001b[38;5;241m1\u001b[39m]\u001b[38;5;241m.\u001b[39mshape)  \u001b[38;5;66;03m# should print (batch_size, n_masks, tile_height, tile_width) or None\u001b[39;00m\n",
      "Cell \u001b[0;32mIn[14], line 15\u001b[0m, in \u001b[0;36mJaxDataLoader.__iter__\u001b[0;34m(self)\u001b[0m\n\u001b[1;32m     13\u001b[0m \u001b[38;5;28;01mdef\u001b[39;00m \u001b[38;5;21m__iter__\u001b[39m(\u001b[38;5;28mself\u001b[39m):\n\u001b[1;32m     14\u001b[0m     \u001b[38;5;28;01mfor\u001b[39;00m batch_indices \u001b[38;5;129;01min\u001b[39;00m \u001b[38;5;28mself\u001b[39m\u001b[38;5;241m.\u001b[39mindex_generator:\n\u001b[0;32m---> 15\u001b[0m         batch \u001b[38;5;241m=\u001b[39m \u001b[38;5;28;43mself\u001b[39;49m\u001b[38;5;241;43m.\u001b[39;49m\u001b[43m_get_batch\u001b[49m\u001b[43m(\u001b[49m\u001b[43mbatch_indices\u001b[49m\u001b[43m)\u001b[49m\n\u001b[1;32m     16\u001b[0m         \u001b[38;5;28;01myield\u001b[39;00m batch\n",
      "    \u001b[0;31m[... skipping hidden 7 frame]\u001b[0m\n",
      "File \u001b[0;32m/opt/conda/envs/pathml_standard/lib/python3.8/site-packages/jax/_src/api_util.py:552\u001b[0m, in \u001b[0;36m_shaped_abstractify_slow\u001b[0;34m(x)\u001b[0m\n\u001b[1;32m    550\u001b[0m   dtype \u001b[38;5;241m=\u001b[39m dtypes\u001b[38;5;241m.\u001b[39mcanonicalize_dtype(x\u001b[38;5;241m.\u001b[39mdtype, allow_opaque_dtype\u001b[38;5;241m=\u001b[39m\u001b[38;5;28;01mTrue\u001b[39;00m)\n\u001b[1;32m    551\u001b[0m \u001b[38;5;28;01melse\u001b[39;00m:\n\u001b[0;32m--> 552\u001b[0m   \u001b[38;5;28;01mraise\u001b[39;00m \u001b[38;5;167;01mTypeError\u001b[39;00m(\n\u001b[1;32m    553\u001b[0m       \u001b[38;5;124mf\u001b[39m\u001b[38;5;124m\"\u001b[39m\u001b[38;5;124mCannot interpret value of type \u001b[39m\u001b[38;5;132;01m{\u001b[39;00m\u001b[38;5;28mtype\u001b[39m(x)\u001b[38;5;132;01m}\u001b[39;00m\u001b[38;5;124m as an abstract array; it \u001b[39m\u001b[38;5;124m\"\u001b[39m\n\u001b[1;32m    554\u001b[0m       \u001b[38;5;124m\"\u001b[39m\u001b[38;5;124mdoes not have a dtype attribute\u001b[39m\u001b[38;5;124m\"\u001b[39m)\n\u001b[1;32m    555\u001b[0m \u001b[38;5;28;01mreturn\u001b[39;00m core\u001b[38;5;241m.\u001b[39mShapedArray(np\u001b[38;5;241m.\u001b[39mshape(x), dtype, weak_type\u001b[38;5;241m=\u001b[39mweak_type,\n\u001b[1;32m    556\u001b[0m                         named_shape\u001b[38;5;241m=\u001b[39mnamed_shape)\n",
      "\u001b[0;31mTypeError\u001b[0m: Cannot interpret value of type <class '__main__.JaxDataLoader'> as an abstract array; it does not have a dtype attribute"
     ]
    }
   ],
   "source": [
    "for batch in jax_dataloader:\n",
    "    # check if batch has the expected shape\n",
    "    print(batch[0].shape)  # should print (batch_size, C, H, W) or (batch_size, T, Z, C, H, W)\n",
    "    print(batch[1].shape)  # should print (batch_size, n_masks, tile_height, tile_width) or None\n",
    "    # check if elements in batch are JAX arrays\n",
    "    print(type(batch[0]))  # should print <class 'jax.interpreters.xla.DeviceArray'>\n",
    "    print(type(batch[1]))  # should print <class 'jax.interpreters.xla.DeviceArray'> or NoneType\n"
   ]
  },
  {
   "cell_type": "code",
   "execution_count": null,
   "id": "e0e01e34-4990-4be5-8f5c-ce1632ac07a9",
   "metadata": {},
   "outputs": [],
   "source": []
  },
  {
   "cell_type": "code",
   "execution_count": null,
   "id": "542bc81a-c60c-4228-bd3c-96fce0bc97a8",
   "metadata": {},
   "outputs": [],
   "source": []
  },
  {
   "cell_type": "code",
   "execution_count": null,
   "id": "d11a3afc-620d-4c33-8e06-8018402cf249",
   "metadata": {},
   "outputs": [],
   "source": []
  },
  {
   "cell_type": "markdown",
   "id": "f17c90a3-feed-48a4-97df-35c7ecd9a7e1",
   "metadata": {
    "tags": []
   },
   "source": [
    "### Summary\n",
    "\n",
    "Here we demonstrate a complete `PathML` workflow for analyzing brightfield images:\n",
    "\n",
    "1. Loading the raw image\n",
    "2. Define a simple preprocessing pipeline for tissue detection\n",
    "3. Create a PyTorch DataLoader for interfacing with any downstream machine learning model\n",
    "\n",
    "Full documentation of the `PathML` API is available at https://pathml.org.  \n",
    "\n",
    "Full code for this vignette is available at https://github.com/Dana-Farber-AIOS/pathml/tree/master/examples/manuscript_vignettes_stable"
   ]
  }
 ],
 "metadata": {
  "environment": {
   "kernel": "pathml_standard",
   "name": "pytorch-gpu.1-13.m103",
   "type": "gcloud",
   "uri": "gcr.io/deeplearning-platform-release/pytorch-gpu.1-13:m103"
  },
  "kernelspec": {
   "display_name": "pathml_standard",
   "language": "python",
   "name": "pathml_standard"
  },
  "language_info": {
   "codemirror_mode": {
    "name": "ipython",
    "version": 3
   },
   "file_extension": ".py",
   "mimetype": "text/x-python",
   "name": "python",
   "nbconvert_exporter": "python",
   "pygments_lexer": "ipython3",
   "version": "3.8.0"
  }
 },
 "nbformat": 4,
 "nbformat_minor": 5
}
